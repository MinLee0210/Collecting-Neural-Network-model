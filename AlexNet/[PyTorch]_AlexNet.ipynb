{
  "nbformat": 4,
  "nbformat_minor": 0,
  "metadata": {
    "colab": {
      "provenance": []
    },
    "kernelspec": {
      "name": "python3",
      "display_name": "Python 3"
    },
    "language_info": {
      "name": "python"
    },
    "accelerator": "GPU",
    "gpuClass": "standard"
  },
  "cells": [
    {
      "cell_type": "code",
      "source": [
        "import torch\n",
        "import torch.nn as nn\n",
        "\n",
        "import torchvision\n",
        "import torchvision.transforms as transforms\n",
        "\n",
        "from torch.utils.data import DataLoader\n",
        "from torchsummary import summary\n",
        "from torchvision.datasets import CIFAR10\n",
        "from torchvision.datasets import FashionMNIST\n",
        "\n",
        "RANDOM_SEED = 1\n",
        "torch.manual_seed(RANDOM_SEED)"
      ],
      "metadata": {
        "colab": {
          "base_uri": "https://localhost:8080/"
        },
        "id": "Wq5nK_SuRJ6x",
        "outputId": "2b837b58-fb29-48ea-b8da-3d01dcb11753"
      },
      "execution_count": null,
      "outputs": [
        {
          "output_type": "execute_result",
          "data": {
            "text/plain": [
              "<torch._C.Generator at 0x7fdd4278aab0>"
            ]
          },
          "metadata": {},
          "execution_count": 21
        }
      ]
    },
    {
      "cell_type": "markdown",
      "source": [
        "# Prepare dataset"
      ],
      "metadata": {
        "id": "b4I9zsc6kWUZ"
      }
    },
    {
      "cell_type": "code",
      "source": [
        "N_CLASSES= 10\n",
        "EPOCHS = 50\n",
        "BATCH_SIZE = 256\n",
        "LEARNING_RATE = 1e-4"
      ],
      "metadata": {
        "id": "IhKADxEBlCBO"
      },
      "execution_count": null,
      "outputs": []
    },
    {
      "cell_type": "code",
      "source": [
        "transform = transforms.Compose([\n",
        "    transforms.Resize((224, 224)),\n",
        "    transforms.ToTensor()\n",
        "])\n",
        "\n",
        "train_dataset = CIFAR10(root='./data', train=True, download=True, transform=transform)\n",
        "train_dataloader = DataLoader(train_dataset, batch_size=BATCH_SIZE, shuffle=True, num_workers=2)\n",
        "\n",
        "val_dataset = CIFAR10(root='./data', train=False, download=True, transform=transform)\n",
        "val_dataloader = DataLoader(val_dataset, batch_size=BATCH_SIZE, shuffle=False, num_workers=2)"
      ],
      "metadata": {
        "colab": {
          "base_uri": "https://localhost:8080/"
        },
        "id": "QcB1vXHskYGd",
        "outputId": "5d4ef304-cf35-4b88-8cac-27deeef69234"
      },
      "execution_count": null,
      "outputs": [
        {
          "output_type": "stream",
          "name": "stdout",
          "text": [
            "Files already downloaded and verified\n",
            "Files already downloaded and verified\n"
          ]
        }
      ]
    },
    {
      "cell_type": "markdown",
      "source": [
        "# Architecture of AlexNet"
      ],
      "metadata": {
        "id": "livyD_UVQ88W"
      }
    },
    {
      "cell_type": "code",
      "execution_count": null,
      "metadata": {
        "id": "KfpYC9CYm2so",
        "colab": {
          "base_uri": "https://localhost:8080/"
        },
        "outputId": "f46f9e91-99e5-465f-aee1-e9033d29a300"
      },
      "outputs": [
        {
          "output_type": "stream",
          "name": "stdout",
          "text": [
            "USING cuda FOR TRAINING THE ALEXNET\n",
            "Sequential(\n",
            "  (0): Conv2d(3, 96, kernel_size=(11, 11), stride=(4, 4), padding=(1, 1))\n",
            "  (1): ReLU()\n",
            "  (2): MaxPool2d(kernel_size=3, stride=2, padding=0, dilation=1, ceil_mode=False)\n",
            ")\n"
          ]
        },
        {
          "output_type": "execute_result",
          "data": {
            "text/plain": [
              "AlexNet(\n",
              "  (conv_block1): Sequential(\n",
              "    (0): Conv2d(3, 96, kernel_size=(11, 11), stride=(4, 4), padding=(1, 1))\n",
              "    (1): ReLU()\n",
              "    (2): MaxPool2d(kernel_size=3, stride=2, padding=0, dilation=1, ceil_mode=False)\n",
              "  )\n",
              "  (conv_block2): Sequential(\n",
              "    (0): Conv2d(96, 256, kernel_size=(5, 5), stride=(1, 1), padding=(2, 2))\n",
              "    (1): ReLU()\n",
              "    (2): MaxPool2d(kernel_size=3, stride=2, padding=0, dilation=1, ceil_mode=False)\n",
              "  )\n",
              "  (conv_block3): Sequential(\n",
              "    (0): Conv2d(256, 384, kernel_size=(3, 3), stride=(1, 1), padding=(1, 1))\n",
              "    (1): ReLU()\n",
              "  )\n",
              "  (conv_block4): Sequential(\n",
              "    (0): Conv2d(384, 384, kernel_size=(3, 3), stride=(1, 1), padding=(1, 1))\n",
              "    (1): ReLU()\n",
              "  )\n",
              "  (conv_block5): Sequential(\n",
              "    (0): Conv2d(384, 256, kernel_size=(3, 3), stride=(1, 1), padding=(1, 1))\n",
              "    (1): ReLU()\n",
              "    (2): MaxPool2d(kernel_size=3, stride=2, padding=0, dilation=1, ceil_mode=False)\n",
              "  )\n",
              "  (flatten): Flatten(start_dim=1, end_dim=-1)\n",
              "  (fc_layer1): Sequential(\n",
              "    (0): Linear(in_features=6400, out_features=4096, bias=True)\n",
              "    (1): ReLU()\n",
              "    (2): Dropout(p=0.5, inplace=False)\n",
              "  )\n",
              "  (fc_layer2): Sequential(\n",
              "    (0): Linear(in_features=4096, out_features=4096, bias=True)\n",
              "    (1): ReLU()\n",
              "    (2): Dropout(p=0.5, inplace=False)\n",
              "  )\n",
              "  (fc_layer3): Linear(in_features=4096, out_features=10, bias=True)\n",
              ")"
            ]
          },
          "metadata": {},
          "execution_count": 18
        }
      ],
      "source": [
        "class AlexNet(nn.Module):\n",
        "  def __init__(self, n_classes):\n",
        "    super(AlexNet, self).__init__()\n",
        "    self.conv_block1 = nn.Sequential(\n",
        "        nn.Conv2d(in_channels=3, out_channels=96, kernel_size=11, stride=4, padding=1),\n",
        "        nn.ReLU(), \n",
        "        nn.MaxPool2d(kernel_size=3, stride=2)\n",
        "    )\n",
        "    print(self.conv_block1)\n",
        "    self.conv_block2 = nn.Sequential(\n",
        "        nn.Conv2d(in_channels=96, out_channels=256, kernel_size=5, stride=1, padding=2),\n",
        "        nn.ReLU(),\n",
        "        nn.MaxPool2d(kernel_size=3, stride=2)\n",
        "    )\n",
        "    self.conv_block3 = nn.Sequential(\n",
        "        nn.Conv2d(in_channels=256, out_channels=384, kernel_size=3, stride=1, padding=1),\n",
        "        nn.ReLU()\n",
        "    )\n",
        "    self.conv_block4 = nn.Sequential(\n",
        "        nn.Conv2d(in_channels=384, out_channels=384, kernel_size=3, stride=1, padding=1),\n",
        "        nn.ReLU()\n",
        "    )\n",
        "    self.conv_block5 = nn.Sequential(\n",
        "        nn.Conv2d(in_channels=384, out_channels=256, kernel_size=3, stride=1, padding=1),\n",
        "        nn.ReLU(), \n",
        "        nn.MaxPool2d(kernel_size=3, stride=2)\n",
        "    )\n",
        "    self.flatten = nn.Flatten()\n",
        "    self.fc_layer1 = nn.Sequential(\n",
        "        nn.Linear(256 * 5 * 5, 4096),\n",
        "        nn.ReLU(),\n",
        "        nn.Dropout(0.5)\n",
        "    )\n",
        "    self.fc_layer2 = nn.Sequential(\n",
        "        nn.Linear(4096, 4096),\n",
        "        nn.ReLU(),\n",
        "        nn.Dropout(0.5)\n",
        "    )\n",
        "    self.fc_layer3 = nn.Linear(4096, n_classes)\n",
        "\n",
        "  def forward(self, x):\n",
        "    x = self.conv_block1(x)\n",
        "    x = self.conv_block2(x)\n",
        "    x = self.conv_block3(x)\n",
        "    x = self.conv_block4(x)\n",
        "    x = self.conv_block5(x)\n",
        "    x = self.flatten(x)\n",
        "    x = self.fc_layer1(x)\n",
        "    x = self.fc_layer2(x)\n",
        "    x = self.fc_layer3(x)\n",
        "    return x\n",
        "\n",
        "device = 'cuda' if torch.cuda.is_available() else 'cpu'\n",
        "print('USING {} FOR TRAINING THE ALEXNET'.format(device))\n",
        "model = AlexNet(10)\n",
        "model.to(device)"
      ]
    },
    {
      "cell_type": "code",
      "source": [
        "summary(model, (3, 224, 224))"
      ],
      "metadata": {
        "colab": {
          "base_uri": "https://localhost:8080/"
        },
        "id": "gRniVocBY9SZ",
        "outputId": "f9c8e426-c158-444f-d880-a6fb5d6bc73f"
      },
      "execution_count": null,
      "outputs": [
        {
          "output_type": "stream",
          "name": "stdout",
          "text": [
            "----------------------------------------------------------------\n",
            "        Layer (type)               Output Shape         Param #\n",
            "================================================================\n",
            "            Conv2d-1           [-1, 96, 54, 54]          34,944\n",
            "              ReLU-2           [-1, 96, 54, 54]               0\n",
            "         MaxPool2d-3           [-1, 96, 26, 26]               0\n",
            "            Conv2d-4          [-1, 256, 26, 26]         614,656\n",
            "              ReLU-5          [-1, 256, 26, 26]               0\n",
            "         MaxPool2d-6          [-1, 256, 12, 12]               0\n",
            "            Conv2d-7          [-1, 384, 12, 12]         885,120\n",
            "              ReLU-8          [-1, 384, 12, 12]               0\n",
            "            Conv2d-9          [-1, 384, 12, 12]       1,327,488\n",
            "             ReLU-10          [-1, 384, 12, 12]               0\n",
            "           Conv2d-11          [-1, 256, 12, 12]         884,992\n",
            "             ReLU-12          [-1, 256, 12, 12]               0\n",
            "        MaxPool2d-13            [-1, 256, 5, 5]               0\n",
            "          Flatten-14                 [-1, 6400]               0\n",
            "           Linear-15                 [-1, 4096]      26,218,496\n",
            "             ReLU-16                 [-1, 4096]               0\n",
            "          Dropout-17                 [-1, 4096]               0\n",
            "           Linear-18                 [-1, 4096]      16,781,312\n",
            "             ReLU-19                 [-1, 4096]               0\n",
            "          Dropout-20                 [-1, 4096]               0\n",
            "           Linear-21                   [-1, 10]          40,970\n",
            "================================================================\n",
            "Total params: 46,787,978\n",
            "Trainable params: 46,787,978\n",
            "Non-trainable params: 0\n",
            "----------------------------------------------------------------\n",
            "Input size (MB): 0.57\n",
            "Forward/backward pass size (MB): 10.22\n",
            "Params size (MB): 178.48\n",
            "Estimated Total Size (MB): 189.28\n",
            "----------------------------------------------------------------\n"
          ]
        }
      ]
    },
    {
      "cell_type": "markdown",
      "source": [
        "# TRAINING THE ALEXNET WITH CIFAR10"
      ],
      "metadata": {
        "id": "mXLN6XPNm2oH"
      }
    },
    {
      "cell_type": "code",
      "source": [
        "criterion = nn.CrossEntropyLoss()\n",
        "optimizer = torch.optim.Adam(model.parameters(), lr=LEARNING_RATE)  \n",
        "\n",
        "training_steps = len(train_dataloader)\n",
        "val_steps = len(val_dataloader)\n",
        "\n",
        "training_losses = []\n",
        "val_losses = []\n",
        "\n",
        "val_accs = []\n",
        "\n",
        "print('Start Training...\\n')\n",
        "for epoch in range(EPOCHS):\n",
        "    total_training_loss = 0\n",
        "    model.train()\n",
        "    for idx, (X_train, y_train) in enumerate(train_dataloader):\n",
        "        X_train = X_train.to(device)\n",
        "        y_train = y_train.to(device)\n",
        "\n",
        "        y_pred = model(X_train)\n",
        "        loss = criterion(y_pred, y_train)\n",
        "        total_training_loss += loss.item()\n",
        "\n",
        "        optimizer.zero_grad()\n",
        "        loss.backward()\n",
        "        optimizer.step()\n",
        "\n",
        "    training_loss = total_training_loss / training_steps\n",
        "    training_losses.append(training_loss)\n",
        "\n",
        "    print(f'Epoch [{epoch+1}/{EPOCHS}], Training Loss: {training_loss:.3f}')\n",
        "\n",
        "    with torch.no_grad():\n",
        "        model.eval()\n",
        "        n_correct_preds = 0\n",
        "        n_val_samples = 0\n",
        "        total_val_loss = 0\n",
        "        for idx, (X_val, y_val) in enumerate(val_dataloader):\n",
        "            X_val = X_val.to(device)\n",
        "            y_val = y_val.to(device)\n",
        "\n",
        "            y_pred = model(X_val)\n",
        "            loss = criterion(y_pred, y_val)\n",
        "            total_val_loss += loss.item()\n",
        "\n",
        "            y_pred_max, y_pred_max_idx = torch.max(y_pred, 1)\n",
        "            n_val_samples += y_pred.size(0)\n",
        "            n_correct_preds += (y_val == y_pred_max_idx).sum().item()\n",
        "\n",
        "        val_acc = n_correct_preds / n_val_samples\n",
        "        val_loss = total_val_loss / val_steps\n",
        "        val_losses.append(val_loss)\n",
        "        val_accs.append(val_acc)\n",
        "\n",
        "        print(f'Val Loss: {val_loss:.3f}, Val Accuracy: {val_acc:.3f}\\n')\n",
        "\n",
        "print('Training Completed')"
      ],
      "metadata": {
        "colab": {
          "base_uri": "https://localhost:8080/"
        },
        "id": "OcsJChzZfMPF",
        "outputId": "a786dbb2-0261-4e73-c013-69c0d1d4c850"
      },
      "execution_count": null,
      "outputs": [
        {
          "output_type": "stream",
          "name": "stdout",
          "text": [
            "Start Training...\n",
            "\n",
            "Epoch [1/50], Training Loss: 1.891\n",
            "Val Loss: 1.598, Val Accuracy: 0.410\n",
            "\n",
            "Epoch [2/50], Training Loss: 1.445\n",
            "Val Loss: 1.290, Val Accuracy: 0.528\n",
            "\n",
            "Epoch [3/50], Training Loss: 1.250\n",
            "Val Loss: 1.204, Val Accuracy: 0.572\n",
            "\n",
            "Epoch [4/50], Training Loss: 1.091\n",
            "Val Loss: 1.019, Val Accuracy: 0.643\n",
            "\n",
            "Epoch [5/50], Training Loss: 0.972\n",
            "Val Loss: 0.947, Val Accuracy: 0.665\n",
            "\n",
            "Epoch [6/50], Training Loss: 0.880\n",
            "Val Loss: 0.880, Val Accuracy: 0.687\n",
            "\n",
            "Epoch [7/50], Training Loss: 0.801\n",
            "Val Loss: 0.806, Val Accuracy: 0.718\n",
            "\n",
            "Epoch [8/50], Training Loss: 0.723\n",
            "Val Loss: 0.775, Val Accuracy: 0.732\n",
            "\n",
            "Epoch [9/50], Training Loss: 0.660\n",
            "Val Loss: 0.680, Val Accuracy: 0.763\n",
            "\n",
            "Epoch [10/50], Training Loss: 0.611\n",
            "Val Loss: 0.683, Val Accuracy: 0.761\n",
            "\n",
            "Epoch [11/50], Training Loss: 0.556\n",
            "Val Loss: 0.701, Val Accuracy: 0.758\n",
            "\n",
            "Epoch [12/50], Training Loss: 0.500\n",
            "Val Loss: 0.627, Val Accuracy: 0.781\n",
            "\n",
            "Epoch [13/50], Training Loss: 0.450\n",
            "Val Loss: 0.655, Val Accuracy: 0.778\n",
            "\n",
            "Epoch [14/50], Training Loss: 0.399\n",
            "Val Loss: 0.642, Val Accuracy: 0.787\n",
            "\n",
            "Epoch [15/50], Training Loss: 0.362\n",
            "Val Loss: 0.586, Val Accuracy: 0.800\n",
            "\n",
            "Epoch [16/50], Training Loss: 0.315\n",
            "Val Loss: 0.601, Val Accuracy: 0.799\n",
            "\n",
            "Epoch [17/50], Training Loss: 0.268\n",
            "Val Loss: 0.601, Val Accuracy: 0.806\n",
            "\n",
            "Epoch [18/50], Training Loss: 0.227\n",
            "Val Loss: 0.616, Val Accuracy: 0.811\n",
            "\n",
            "Epoch [19/50], Training Loss: 0.191\n",
            "Val Loss: 0.659, Val Accuracy: 0.809\n",
            "\n",
            "Epoch [20/50], Training Loss: 0.164\n",
            "Val Loss: 0.691, Val Accuracy: 0.805\n",
            "\n",
            "Epoch [21/50], Training Loss: 0.136\n",
            "Val Loss: 0.748, Val Accuracy: 0.809\n",
            "\n",
            "Epoch [22/50], Training Loss: 0.117\n",
            "Val Loss: 0.784, Val Accuracy: 0.811\n",
            "\n",
            "Epoch [23/50], Training Loss: 0.104\n",
            "Val Loss: 0.699, Val Accuracy: 0.813\n",
            "\n",
            "Epoch [24/50], Training Loss: 0.081\n",
            "Val Loss: 0.835, Val Accuracy: 0.805\n",
            "\n",
            "Epoch [25/50], Training Loss: 0.082\n",
            "Val Loss: 0.864, Val Accuracy: 0.803\n",
            "\n",
            "Epoch [26/50], Training Loss: 0.073\n",
            "Val Loss: 0.864, Val Accuracy: 0.808\n",
            "\n",
            "Epoch [27/50], Training Loss: 0.066\n",
            "Val Loss: 0.844, Val Accuracy: 0.820\n",
            "\n",
            "Epoch [28/50], Training Loss: 0.051\n",
            "Val Loss: 0.865, Val Accuracy: 0.819\n",
            "\n",
            "Epoch [29/50], Training Loss: 0.051\n",
            "Val Loss: 0.933, Val Accuracy: 0.804\n",
            "\n",
            "Epoch [30/50], Training Loss: 0.057\n",
            "Val Loss: 0.962, Val Accuracy: 0.809\n",
            "\n",
            "Epoch [31/50], Training Loss: 0.051\n",
            "Val Loss: 0.918, Val Accuracy: 0.816\n",
            "\n",
            "Epoch [32/50], Training Loss: 0.049\n",
            "Val Loss: 0.973, Val Accuracy: 0.811\n",
            "\n",
            "Epoch [33/50], Training Loss: 0.048\n",
            "Val Loss: 0.946, Val Accuracy: 0.812\n",
            "\n",
            "Epoch [34/50], Training Loss: 0.045\n",
            "Val Loss: 0.925, Val Accuracy: 0.820\n",
            "\n",
            "Epoch [35/50], Training Loss: 0.041\n",
            "Val Loss: 0.968, Val Accuracy: 0.810\n",
            "\n",
            "Epoch [36/50], Training Loss: 0.040\n",
            "Val Loss: 1.016, Val Accuracy: 0.815\n",
            "\n",
            "Epoch [37/50], Training Loss: 0.045\n",
            "Val Loss: 0.967, Val Accuracy: 0.813\n",
            "\n",
            "Epoch [38/50], Training Loss: 0.035\n",
            "Val Loss: 0.932, Val Accuracy: 0.816\n",
            "\n",
            "Epoch [39/50], Training Loss: 0.037\n",
            "Val Loss: 1.001, Val Accuracy: 0.819\n",
            "\n",
            "Epoch [40/50], Training Loss: 0.032\n",
            "Val Loss: 1.057, Val Accuracy: 0.818\n",
            "\n",
            "Epoch [41/50], Training Loss: 0.032\n",
            "Val Loss: 1.067, Val Accuracy: 0.802\n",
            "\n",
            "Epoch [42/50], Training Loss: 0.033\n",
            "Val Loss: 1.098, Val Accuracy: 0.811\n",
            "\n",
            "Epoch [43/50], Training Loss: 0.029\n",
            "Val Loss: 1.002, Val Accuracy: 0.810\n",
            "\n",
            "Epoch [44/50], Training Loss: 0.034\n",
            "Val Loss: 0.981, Val Accuracy: 0.812\n",
            "\n",
            "Epoch [45/50], Training Loss: 0.030\n",
            "Val Loss: 1.028, Val Accuracy: 0.814\n",
            "\n",
            "Epoch [46/50], Training Loss: 0.032\n",
            "Val Loss: 0.975, Val Accuracy: 0.817\n",
            "\n",
            "Epoch [47/50], Training Loss: 0.031\n",
            "Val Loss: 1.031, Val Accuracy: 0.804\n",
            "\n",
            "Epoch [48/50], Training Loss: 0.029\n",
            "Val Loss: 1.089, Val Accuracy: 0.806\n",
            "\n",
            "Epoch [49/50], Training Loss: 0.029\n",
            "Val Loss: 1.066, Val Accuracy: 0.819\n",
            "\n",
            "Epoch [50/50], Training Loss: 0.030\n",
            "Val Loss: 1.058, Val Accuracy: 0.818\n",
            "\n",
            "Training Completed\n"
          ]
        }
      ]
    },
    {
      "cell_type": "code",
      "source": [
        "import matplotlib.pyplot as plt\n",
        "\n",
        "plt.figure(figsize=(20, 10))\n",
        "plt.plot(training_losses, label = \"train_loss\")\n",
        "plt.plot(val_losses, linestyle='--', label = \"val_loss\")\n",
        "plt.plot(val_accs, linestyle='--', label = 'val_accuracy')\n",
        "plt.xlabel('Iteration')\n",
        "plt.ylabel('Loss')\n",
        "plt.legend()\n",
        "plt.grid()"
      ],
      "metadata": {
        "colab": {
          "base_uri": "https://localhost:8080/",
          "height": 606
        },
        "id": "AOFKKs85qu3_",
        "outputId": "37becd45-5442-45bc-8d62-aeeeebdd1e88"
      },
      "execution_count": null,
      "outputs": [
        {
          "output_type": "display_data",
          "data": {
            "text/plain": [
              "<Figure size 1440x720 with 1 Axes>"
            ],
            "image/png": "[encoded data removed]"
          },
          "metadata": {
            "needs_background": "light"
          }
        }
      ]
    }
  ]
}
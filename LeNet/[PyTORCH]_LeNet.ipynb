{
  "nbformat": 4,
  "nbformat_minor": 0,
  "metadata": {
    "colab": {
      "provenance": []
    },
    "kernelspec": {
      "name": "python3",
      "display_name": "Python 3"
    },
    "language_info": {
      "name": "python"
    },
    "accelerator": "GPU",
    "gpuClass": "standard"
  },
  "cells": [
    {
      "cell_type": "code",
      "execution_count": 1,
      "metadata": {
        "id": "2-YQlxgjYq3y"
      },
      "outputs": [],
      "source": [
        "import torch\n",
        "import torch.nn as nn\n",
        "import torchvision"
      ]
    },
    {
      "cell_type": "code",
      "source": [
        "def init_cnn(module):\n",
        "  if type(module) == nn.Linear or type(module) == nn.Conv2d:\n",
        "    nn.init.xavier_uniform_(module.weight)"
      ],
      "metadata": {
        "id": "5nAD04c3ZWVs"
      },
      "execution_count": 2,
      "outputs": []
    },
    {
      "cell_type": "code",
      "source": [
        "n_classes = 10\n",
        "n_epochs = 50\n",
        "batch_size = 256\n",
        "lr = 1e-4"
      ],
      "metadata": {
        "id": "vdEbMCDdiXkq"
      },
      "execution_count": 19,
      "outputs": []
    },
    {
      "cell_type": "code",
      "source": [
        "class LeNet(nn.Module):\n",
        "  def __init__(self, n_classes):\n",
        "    super(LeNet, self).__init__()\n",
        "    self.conv_layer1 = nn.Sequential(\n",
        "        nn.LazyConv2d(out_channels=6, kernel_size=5, padding=2), \n",
        "        nn.Sigmoid(),\n",
        "        nn.AvgPool2d(kernel_size=2, stride=2),\n",
        "    )\n",
        "    self.conv_layer2 = nn.Sequential(\n",
        "        nn.LazyConv2d(out_channels=16, kernel_size=5), \n",
        "        nn.Sigmoid(),\n",
        "        nn.AvgPool2d(kernel_size=2, stride=2),\n",
        "    )\n",
        "    self.flatten = nn.Flatten()\n",
        "    self.linear_layer1 = nn.Sequential(\n",
        "        nn.LazyLinear(120), nn.Sigmoid()\n",
        "    )\n",
        "    self.linear_layer2 = nn.Sequential(\n",
        "        nn.LazyLinear(84), nn.Sigmoid()\n",
        "    )\n",
        "    self.linear_layer3 = nn.LazyLinear(n_classes)\n",
        "  def forward(self, x):\n",
        "    x = self.conv_layer1(x)\n",
        "    x = self.conv_layer2(x)\n",
        "    x = self.flatten(x)\n",
        "    x = self.linear_layer1(x)\n",
        "    x = self.linear_layer2(x)\n",
        "    x = self.linear_layer3(x)\n",
        "    return x"
      ],
      "metadata": {
        "id": "qMZfdhloZj5V"
      },
      "execution_count": 26,
      "outputs": []
    },
    {
      "cell_type": "code",
      "source": [
        "device = 'cuda' if torch.cuda.is_available() else 'cpu'\n",
        "print('Using {} of training LeNet'.format(device))\n",
        "model = LeNet(10)\n",
        "model.to(device)"
      ],
      "metadata": {
        "colab": {
          "base_uri": "https://localhost:8080/"
        },
        "id": "QBdMZgIFdAGI",
        "outputId": "fe0cae1d-cea5-4500-a302-5e0e12e15ee6"
      },
      "execution_count": 27,
      "outputs": [
        {
          "output_type": "stream",
          "name": "stdout",
          "text": [
            "Using cuda of training LeNet\n"
          ]
        },
        {
          "output_type": "stream",
          "name": "stderr",
          "text": [
            "/usr/local/lib/python3.8/dist-packages/torch/nn/modules/lazy.py:180: UserWarning: Lazy modules are a new feature under heavy development so changes to the API or functionality can happen at any moment.\n",
            "  warnings.warn('Lazy modules are a new feature under heavy development '\n"
          ]
        },
        {
          "output_type": "execute_result",
          "data": {
            "text/plain": [
              "LeNet(\n",
              "  (conv_layer1): Sequential(\n",
              "    (0): LazyConv2d(0, 6, kernel_size=(5, 5), stride=(1, 1), padding=(2, 2))\n",
              "    (1): Sigmoid()\n",
              "    (2): AvgPool2d(kernel_size=2, stride=2, padding=0)\n",
              "  )\n",
              "  (conv_layer2): Sequential(\n",
              "    (0): LazyConv2d(0, 16, kernel_size=(5, 5), stride=(1, 1))\n",
              "    (1): Sigmoid()\n",
              "    (2): AvgPool2d(kernel_size=2, stride=2, padding=0)\n",
              "  )\n",
              "  (flatten): Flatten(start_dim=1, end_dim=-1)\n",
              "  (linear_layer1): Sequential(\n",
              "    (0): LazyLinear(in_features=0, out_features=120, bias=True)\n",
              "    (1): Sigmoid()\n",
              "  )\n",
              "  (linear_layer2): Sequential(\n",
              "    (0): LazyLinear(in_features=0, out_features=84, bias=True)\n",
              "    (1): Sigmoid()\n",
              "  )\n",
              "  (linear_layer3): LazyLinear(in_features=0, out_features=10, bias=True)\n",
              ")"
            ]
          },
          "metadata": {},
          "execution_count": 27
        }
      ]
    },
    {
      "cell_type": "code",
      "source": [
        "transform = torchvision.transforms.Compose([torchvision.transforms.ToTensor()])\n",
        "\n",
        "train_dataset = torchvision.datasets.FashionMNIST(root='./data', train=True, download=True, transform=transform)\n",
        "train_dataloader = torch.utils.data.DataLoader(train_dataset, batch_size=128, shuffle=True)\n",
        "\n",
        "val_dataset = torchvision.datasets.FashionMNIST(root='./data', train=False, download=True, transform=transform)\n",
        "val_dataloader = torch.utils.data.DataLoader(val_dataset, batch_size=128, shuffle=False)"
      ],
      "metadata": {
        "id": "RQ2gFXd8hOKf"
      },
      "execution_count": 22,
      "outputs": []
    },
    {
      "cell_type": "code",
      "source": [
        "criterion = nn.CrossEntropyLoss()\n",
        "optimizer = torch.optim.Adam(model.parameters(), lr=lr)  \n",
        "\n",
        "training_steps = len(train_dataloader)\n",
        "val_steps = len(val_dataloader)\n",
        "\n",
        "training_losses = []\n",
        "val_losses = []\n",
        "val_accs = []"
      ],
      "metadata": {
        "id": "8tWbsep9hz9h"
      },
      "execution_count": 28,
      "outputs": []
    },
    {
      "cell_type": "code",
      "source": [
        "print(training_steps)\n",
        "print(val_steps)"
      ],
      "metadata": {
        "colab": {
          "base_uri": "https://localhost:8080/"
        },
        "id": "Yf-g42AqjQuC",
        "outputId": "4d055b66-d0e5-4fc2-dfa2-d94d21c08c8e"
      },
      "execution_count": 29,
      "outputs": [
        {
          "output_type": "stream",
          "name": "stdout",
          "text": [
            "469\n",
            "79\n"
          ]
        }
      ]
    },
    {
      "cell_type": "code",
      "source": [
        "print('Start Training...\\n')\n",
        "for epoch in range(n_epochs):\n",
        "    total_training_loss = 0\n",
        "    model.train()\n",
        "    for idx, (X_train, y_train) in enumerate(train_dataloader):\n",
        "        X_train = X_train.to(device)\n",
        "        y_train = y_train.to(device)\n",
        "\n",
        "        y_pred = model(X_train)\n",
        "        loss = criterion(y_pred, y_train)\n",
        "        total_training_loss += loss.item()\n",
        "\n",
        "        optimizer.zero_grad()\n",
        "        loss.backward()\n",
        "        optimizer.step()\n",
        "\n",
        "    training_loss = total_training_loss / training_steps\n",
        "    training_losses.append(training_loss)\n",
        "\n",
        "    print(f'Epoch [{epoch+1}/{n_epochs}], Training Loss: {training_loss:.3f}')\n",
        "\n",
        "    with torch.no_grad():\n",
        "        model.eval()\n",
        "        n_correct_preds = 0\n",
        "        n_val_samples = 0\n",
        "        total_val_loss = 0\n",
        "        for idx, (X_val, y_val) in enumerate(val_dataloader):\n",
        "            X_val = X_val.to(device)\n",
        "            y_val = y_val.to(device)\n",
        "\n",
        "            y_pred = model(X_val)\n",
        "            loss = criterion(y_pred, y_val)\n",
        "            total_val_loss += loss.item()\n",
        "\n",
        "            y_pred_max, y_pred_max_idx = torch.max(y_pred, 1)\n",
        "            n_val_samples += y_pred.size(0)\n",
        "            n_correct_preds += (y_val == y_pred_max_idx).sum().item()\n",
        "\n",
        "        val_acc = n_correct_preds / n_val_samples\n",
        "        val_loss = total_val_loss / val_steps\n",
        "        val_losses.append(val_loss)\n",
        "        val_accs.append(val_acc)\n",
        "\n",
        "        print(f'Val Loss: {val_loss:.3f}, Val Accuracy: {val_acc:.3f}\\n')\n",
        "\n",
        "print('Training Completed')"
      ],
      "metadata": {
        "colab": {
          "base_uri": "https://localhost:8080/"
        },
        "id": "OczIoXt2iuZU",
        "outputId": "cc5cdf66-b2e0-49f2-f299-f17ba9dc45f0"
      },
      "execution_count": 30,
      "outputs": [
        {
          "output_type": "stream",
          "name": "stdout",
          "text": [
            "Start Training...\n",
            "\n",
            "Epoch [1/50], Training Loss: 2.302\n",
            "Val Loss: 2.292, Val Accuracy: 0.207\n",
            "\n",
            "Epoch [2/50], Training Loss: 2.079\n",
            "Val Loss: 1.735, Val Accuracy: 0.463\n",
            "\n",
            "Epoch [3/50], Training Loss: 1.509\n",
            "Val Loss: 1.342, Val Accuracy: 0.555\n",
            "\n",
            "Epoch [4/50], Training Loss: 1.241\n",
            "Val Loss: 1.158, Val Accuracy: 0.582\n",
            "\n",
            "Epoch [5/50], Training Loss: 1.098\n",
            "Val Loss: 1.050, Val Accuracy: 0.605\n",
            "\n",
            "Epoch [6/50], Training Loss: 1.010\n",
            "Val Loss: 0.982, Val Accuracy: 0.621\n",
            "\n",
            "Epoch [7/50], Training Loss: 0.953\n",
            "Val Loss: 0.935, Val Accuracy: 0.648\n",
            "\n",
            "Epoch [8/50], Training Loss: 0.911\n",
            "Val Loss: 0.897, Val Accuracy: 0.651\n",
            "\n",
            "Epoch [9/50], Training Loss: 0.874\n",
            "Val Loss: 0.864, Val Accuracy: 0.675\n",
            "\n",
            "Epoch [10/50], Training Loss: 0.842\n",
            "Val Loss: 0.835, Val Accuracy: 0.684\n",
            "\n",
            "Epoch [11/50], Training Loss: 0.814\n",
            "Val Loss: 0.813, Val Accuracy: 0.705\n",
            "\n",
            "Epoch [12/50], Training Loss: 0.790\n",
            "Val Loss: 0.792, Val Accuracy: 0.709\n",
            "\n",
            "Epoch [13/50], Training Loss: 0.769\n",
            "Val Loss: 0.772, Val Accuracy: 0.711\n",
            "\n",
            "Epoch [14/50], Training Loss: 0.751\n",
            "Val Loss: 0.756, Val Accuracy: 0.718\n",
            "\n",
            "Epoch [15/50], Training Loss: 0.733\n",
            "Val Loss: 0.739, Val Accuracy: 0.724\n",
            "\n",
            "Epoch [16/50], Training Loss: 0.717\n",
            "Val Loss: 0.725, Val Accuracy: 0.727\n",
            "\n",
            "Epoch [17/50], Training Loss: 0.702\n",
            "Val Loss: 0.712, Val Accuracy: 0.731\n",
            "\n",
            "Epoch [18/50], Training Loss: 0.688\n",
            "Val Loss: 0.699, Val Accuracy: 0.736\n",
            "\n",
            "Epoch [19/50], Training Loss: 0.675\n",
            "Val Loss: 0.687, Val Accuracy: 0.740\n",
            "\n",
            "Epoch [20/50], Training Loss: 0.662\n",
            "Val Loss: 0.674, Val Accuracy: 0.743\n",
            "\n",
            "Epoch [21/50], Training Loss: 0.651\n",
            "Val Loss: 0.665, Val Accuracy: 0.744\n",
            "\n",
            "Epoch [22/50], Training Loss: 0.641\n",
            "Val Loss: 0.654, Val Accuracy: 0.748\n",
            "\n",
            "Epoch [23/50], Training Loss: 0.632\n",
            "Val Loss: 0.648, Val Accuracy: 0.749\n",
            "\n",
            "Epoch [24/50], Training Loss: 0.623\n",
            "Val Loss: 0.639, Val Accuracy: 0.751\n",
            "\n",
            "Epoch [25/50], Training Loss: 0.616\n",
            "Val Loss: 0.633, Val Accuracy: 0.751\n",
            "\n",
            "Epoch [26/50], Training Loss: 0.609\n",
            "Val Loss: 0.625, Val Accuracy: 0.756\n",
            "\n",
            "Epoch [27/50], Training Loss: 0.602\n",
            "Val Loss: 0.618, Val Accuracy: 0.761\n",
            "\n",
            "Epoch [28/50], Training Loss: 0.595\n",
            "Val Loss: 0.612, Val Accuracy: 0.763\n",
            "\n",
            "Epoch [29/50], Training Loss: 0.589\n",
            "Val Loss: 0.607, Val Accuracy: 0.763\n",
            "\n",
            "Epoch [30/50], Training Loss: 0.583\n",
            "Val Loss: 0.601, Val Accuracy: 0.768\n",
            "\n",
            "Epoch [31/50], Training Loss: 0.577\n",
            "Val Loss: 0.595, Val Accuracy: 0.769\n",
            "\n",
            "Epoch [32/50], Training Loss: 0.572\n",
            "Val Loss: 0.593, Val Accuracy: 0.774\n",
            "\n",
            "Epoch [33/50], Training Loss: 0.566\n",
            "Val Loss: 0.586, Val Accuracy: 0.771\n",
            "\n",
            "Epoch [34/50], Training Loss: 0.561\n",
            "Val Loss: 0.581, Val Accuracy: 0.775\n",
            "\n",
            "Epoch [35/50], Training Loss: 0.556\n",
            "Val Loss: 0.575, Val Accuracy: 0.783\n",
            "\n",
            "Epoch [36/50], Training Loss: 0.551\n",
            "Val Loss: 0.572, Val Accuracy: 0.780\n",
            "\n",
            "Epoch [37/50], Training Loss: 0.546\n",
            "Val Loss: 0.568, Val Accuracy: 0.781\n",
            "\n",
            "Epoch [38/50], Training Loss: 0.541\n",
            "Val Loss: 0.562, Val Accuracy: 0.785\n",
            "\n",
            "Epoch [39/50], Training Loss: 0.536\n",
            "Val Loss: 0.556, Val Accuracy: 0.789\n",
            "\n",
            "Epoch [40/50], Training Loss: 0.532\n",
            "Val Loss: 0.552, Val Accuracy: 0.791\n",
            "\n",
            "Epoch [41/50], Training Loss: 0.527\n",
            "Val Loss: 0.549, Val Accuracy: 0.790\n",
            "\n",
            "Epoch [42/50], Training Loss: 0.522\n",
            "Val Loss: 0.545, Val Accuracy: 0.794\n",
            "\n",
            "Epoch [43/50], Training Loss: 0.518\n",
            "Val Loss: 0.541, Val Accuracy: 0.795\n",
            "\n",
            "Epoch [44/50], Training Loss: 0.514\n",
            "Val Loss: 0.537, Val Accuracy: 0.800\n",
            "\n",
            "Epoch [45/50], Training Loss: 0.510\n",
            "Val Loss: 0.533, Val Accuracy: 0.797\n",
            "\n",
            "Epoch [46/50], Training Loss: 0.506\n",
            "Val Loss: 0.530, Val Accuracy: 0.798\n",
            "\n",
            "Epoch [47/50], Training Loss: 0.502\n",
            "Val Loss: 0.526, Val Accuracy: 0.801\n",
            "\n",
            "Epoch [48/50], Training Loss: 0.498\n",
            "Val Loss: 0.522, Val Accuracy: 0.802\n",
            "\n",
            "Epoch [49/50], Training Loss: 0.494\n",
            "Val Loss: 0.520, Val Accuracy: 0.805\n",
            "\n",
            "Epoch [50/50], Training Loss: 0.491\n",
            "Val Loss: 0.517, Val Accuracy: 0.806\n",
            "\n",
            "Training Completed\n"
          ]
        }
      ]
    },
    {
      "cell_type": "code",
      "source": [
        "import matplotlib.pyplot as plt\n",
        "\n",
        "plt.figure(figsize=(20, 10))\n",
        "plt.plot(training_losses, c='blue', label='Training Loss')\n",
        "plt.plot(val_losses, c='r', linestyle='--', label='Val Loss')\n",
        "plt.plot(val_accs, c='y', linestyle='--', label='Val Accuracy')\n",
        "plt.legend(loc='upper right')"
      ],
      "metadata": {
        "colab": {
          "base_uri": "https://localhost:8080/",
          "height": 609
        },
        "id": "KhB3vt5KkKuS",
        "outputId": "e2c0ef7b-0f51-47d9-eb32-3982a975a728"
      },
      "execution_count": 38,
      "outputs": [
        {
          "output_type": "execute_result",
          "data": {
            "text/plain": [
              "<matplotlib.legend.Legend at 0x7f02846c9460>"
            ]
          },
          "metadata": {},
          "execution_count": 38
        },
        {
          "output_type": "display_data",
          "data": {
            "text/plain": [
              "<Figure size 1440x720 with 1 Axes>"
            ],
            "image/png": "[encoded data removed]"
          },
          "metadata": {
            "needs_background": "light"
          }
        }
      ]
    }
  ]
}
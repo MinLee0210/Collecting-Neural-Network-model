{
  "nbformat": 4,
  "nbformat_minor": 0,
  "metadata": {
    "colab": {
      "provenance": []
    },
    "kernelspec": {
      "name": "python3",
      "display_name": "Python 3"
    },
    "language_info": {
      "name": "python"
    },
    "accelerator": "GPU",
    "gpuClass": "standard"
  },
  "cells": [
    {
      "cell_type": "code",
      "execution_count": 8,
      "metadata": {
        "colab": {
          "base_uri": "https://localhost:8080/"
        },
        "id": "ZwAc01aca6mg",
        "outputId": "5f449bde-cc88-412c-bfcb-8a4fb042b3e3"
      },
      "outputs": [
        {
          "output_type": "execute_result",
          "data": {
            "text/plain": [
              "<torch._C.Generator at 0x7f2328da2670>"
            ]
          },
          "metadata": {},
          "execution_count": 8
        }
      ],
      "source": [
        "# DATA NORMALIZATION\n",
        "\n",
        "import torch \n",
        "import torchvision\n",
        "import torchvision.transforms as transforms\n",
        "import torch.nn as nn\n",
        "import torch.nn.functional as F\n",
        "\n",
        "import numpy as np\n",
        "import matplotlib.pyplot as plt\n",
        "\n",
        "from torch.utils.data import DataLoader\n",
        "from torch.optim import Adam\n",
        "from torchvision.datasets import CIFAR10\n",
        "\n",
        "RANDOM_SEED = 1\n",
        "torch.manual_seed(RANDOM_SEED)"
      ]
    },
    {
      "cell_type": "code",
      "source": [
        "class CNNModel(nn.Module):\n",
        "    def __init__(self, n_classes=10):\n",
        "        super(CNNModel, self).__init__()\n",
        "        self.conv_layer1 = nn.Sequential(\n",
        "            nn.Conv2d(3, 64, 3, stride=1, padding='same'),\n",
        "            nn.ReLU()\n",
        "        )\n",
        "        self.conv_layer2 = nn.Sequential(\n",
        "            nn.Conv2d(64, 64, 3, stride=1, padding='same'),\n",
        "            nn.ReLU()\n",
        "        )\n",
        "        self.conv_layer3 = nn.Sequential(\n",
        "            nn.Conv2d(64, 64, 3, stride=1, padding='same'),\n",
        "            nn.ReLU(),\n",
        "            nn.MaxPool2d(2, 2)\n",
        "        )\n",
        "        self.conv_layer4 = nn.Sequential(\n",
        "            nn.Conv2d(64, 128, 3, stride=1, padding='same'),\n",
        "            nn.ReLU(),\n",
        "        )\n",
        "        self.conv_layer5 = nn.Sequential(\n",
        "            nn.Conv2d(128, 128, 3, stride=1, padding='same'),\n",
        "            nn.ReLU(),\n",
        "        )\n",
        "        self.conv_layer6 = nn.Sequential(\n",
        "            nn.Conv2d(128, 128, 3, stride=1, padding='same'),\n",
        "            nn.ReLU(),\n",
        "            nn.MaxPool2d(2, 2)\n",
        "        )\n",
        "        self.conv_layer7 = nn.Sequential(\n",
        "            nn.Conv2d(128, 256, 3, stride=1, padding='same'),\n",
        "            nn.ReLU(),\n",
        "        )\n",
        "        self.conv_layer8 = nn.Sequential(\n",
        "            nn.Conv2d(256, 256, 3, stride=1, padding='same'),\n",
        "            nn.ReLU(),\n",
        "        )\n",
        "        self.conv_layer9 = nn.Sequential(\n",
        "            nn.Conv2d(256, 256, 3, stride=1, padding='same'),\n",
        "            nn.ReLU(),\n",
        "            nn.MaxPool2d(2, 2)\n",
        "        )\n",
        "        self.conv_layer10 = nn.Sequential(\n",
        "            nn.Conv2d(256, 512, 3, stride=1, padding='same'),\n",
        "            nn.ReLU(),\n",
        "        )\n",
        "        self.conv_layer11 = nn.Sequential(\n",
        "            nn.Conv2d(512, 512, 3, stride=1, padding='same'),\n",
        "            nn.ReLU(),\n",
        "        )\n",
        "        self.conv_layer12 = nn.Sequential(\n",
        "            nn.Conv2d(512, 512, 3, stride=1, padding='same'),\n",
        "            nn.ReLU(),\n",
        "            nn.MaxPool2d(2, 2)\n",
        "        )\n",
        "\n",
        "        self.flatten = nn.Flatten()\n",
        "        self.fc_layer1 = nn.Sequential(\n",
        "            nn.Linear(512 * 2 * 2, 512),\n",
        "            nn.ReLU()\n",
        "        )\n",
        "        self.fc_layer2 = nn.Linear(512, n_classes)\n",
        "    \n",
        "    def forward(self, x):\n",
        "        x = self.conv_layer1(x)\n",
        "        x = self.conv_layer2(x)\n",
        "        x = self.conv_layer3(x)\n",
        "        x = self.conv_layer4(x)\n",
        "        x = self.conv_layer5(x)\n",
        "        x = self.conv_layer6(x)\n",
        "        x = self.conv_layer7(x)\n",
        "        x = self.conv_layer8(x)\n",
        "        x = self.conv_layer9(x)\n",
        "        x = self.conv_layer10(x)\n",
        "        x = self.conv_layer11(x)\n",
        "        x = self.conv_layer12(x)\n",
        "        x = self.flatten(x)\n",
        "        x = self.fc_layer1(x)\n",
        "        out = self.fc_layer2(x)\n",
        "\n",
        "        return out"
      ],
      "metadata": {
        "id": "kJfVRb01bEwC"
      },
      "execution_count": 10,
      "outputs": []
    },
    {
      "cell_type": "code",
      "source": [
        "n_classes = 10\n",
        "n_epochs = 50\n",
        "batch_size = 256\n",
        "lr = 1e-4"
      ],
      "metadata": {
        "id": "WjZmv-YlbHXl"
      },
      "execution_count": 3,
      "outputs": []
    },
    {
      "cell_type": "code",
      "source": [
        "transform = transforms.Compose(\n",
        "    [\n",
        "        transforms.ToTensor(),\n",
        "        transforms.Normalize(\n",
        "            (0.5, 0.5, 0.5), \n",
        "            (0.5, 0.5, 0.5)\n",
        "        )\n",
        "    ])\n",
        "\n",
        "train_set = CIFAR10(\n",
        "    root='./data', \n",
        "    train=True,\n",
        "    download=True, \n",
        "    transform=transform\n",
        ")\n",
        "\n",
        "val_set = CIFAR10(\n",
        "    root='./data', \n",
        "    train=False,\n",
        "    download=True, \n",
        "    transform=transform\n",
        ")\n",
        "\n",
        "train_dataloader = DataLoader(\n",
        "    train_set, \n",
        "    batch_size=batch_size,\n",
        "    shuffle=True,\n",
        "    num_workers=2\n",
        ")\n",
        "\n",
        "val_dataloader = DataLoader(\n",
        "    val_set, \n",
        "    batch_size=batch_size,\n",
        "    shuffle=False, \n",
        "    num_workers=2\n",
        ")"
      ],
      "metadata": {
        "colab": {
          "base_uri": "https://localhost:8080/"
        },
        "id": "1ZD3UxVNbJBi",
        "outputId": "a8dd9e3c-cbad-42a9-fd9a-ab82a1b76bdc"
      },
      "execution_count": 11,
      "outputs": [
        {
          "output_type": "stream",
          "name": "stdout",
          "text": [
            "Files already downloaded and verified\n",
            "Files already downloaded and verified\n"
          ]
        }
      ]
    },
    {
      "cell_type": "code",
      "source": [
        "device = 'cuda' if torch.cuda.is_available() else 'cpu'\n",
        "print('Using {}'.format(device))\n",
        "model = CNNModel(n_classes)\n",
        "model.to(device)"
      ],
      "metadata": {
        "colab": {
          "base_uri": "https://localhost:8080/"
        },
        "id": "d4PMZkKgbOmG",
        "outputId": "421a7773-5cf1-4e3d-ece5-f8c814ee5aa7"
      },
      "execution_count": 12,
      "outputs": [
        {
          "output_type": "stream",
          "name": "stdout",
          "text": [
            "Using cuda\n"
          ]
        },
        {
          "output_type": "execute_result",
          "data": {
            "text/plain": [
              "CNNModel(\n",
              "  (conv_layer1): Sequential(\n",
              "    (0): Conv2d(3, 64, kernel_size=(3, 3), stride=(1, 1), padding=same)\n",
              "    (1): ReLU()\n",
              "  )\n",
              "  (conv_layer2): Sequential(\n",
              "    (0): Conv2d(64, 64, kernel_size=(3, 3), stride=(1, 1), padding=same)\n",
              "    (1): ReLU()\n",
              "  )\n",
              "  (conv_layer3): Sequential(\n",
              "    (0): Conv2d(64, 64, kernel_size=(3, 3), stride=(1, 1), padding=same)\n",
              "    (1): ReLU()\n",
              "    (2): MaxPool2d(kernel_size=2, stride=2, padding=0, dilation=1, ceil_mode=False)\n",
              "  )\n",
              "  (conv_layer4): Sequential(\n",
              "    (0): Conv2d(64, 128, kernel_size=(3, 3), stride=(1, 1), padding=same)\n",
              "    (1): ReLU()\n",
              "  )\n",
              "  (conv_layer5): Sequential(\n",
              "    (0): Conv2d(128, 128, kernel_size=(3, 3), stride=(1, 1), padding=same)\n",
              "    (1): ReLU()\n",
              "  )\n",
              "  (conv_layer6): Sequential(\n",
              "    (0): Conv2d(128, 128, kernel_size=(3, 3), stride=(1, 1), padding=same)\n",
              "    (1): ReLU()\n",
              "    (2): MaxPool2d(kernel_size=2, stride=2, padding=0, dilation=1, ceil_mode=False)\n",
              "  )\n",
              "  (conv_layer7): Sequential(\n",
              "    (0): Conv2d(128, 256, kernel_size=(3, 3), stride=(1, 1), padding=same)\n",
              "    (1): ReLU()\n",
              "  )\n",
              "  (conv_layer8): Sequential(\n",
              "    (0): Conv2d(256, 256, kernel_size=(3, 3), stride=(1, 1), padding=same)\n",
              "    (1): ReLU()\n",
              "  )\n",
              "  (conv_layer9): Sequential(\n",
              "    (0): Conv2d(256, 256, kernel_size=(3, 3), stride=(1, 1), padding=same)\n",
              "    (1): ReLU()\n",
              "    (2): MaxPool2d(kernel_size=2, stride=2, padding=0, dilation=1, ceil_mode=False)\n",
              "  )\n",
              "  (conv_layer10): Sequential(\n",
              "    (0): Conv2d(256, 512, kernel_size=(3, 3), stride=(1, 1), padding=same)\n",
              "    (1): ReLU()\n",
              "  )\n",
              "  (conv_layer11): Sequential(\n",
              "    (0): Conv2d(512, 512, kernel_size=(3, 3), stride=(1, 1), padding=same)\n",
              "    (1): ReLU()\n",
              "  )\n",
              "  (conv_layer12): Sequential(\n",
              "    (0): Conv2d(512, 512, kernel_size=(3, 3), stride=(1, 1), padding=same)\n",
              "    (1): ReLU()\n",
              "    (2): MaxPool2d(kernel_size=2, stride=2, padding=0, dilation=1, ceil_mode=False)\n",
              "  )\n",
              "  (flatten): Flatten(start_dim=1, end_dim=-1)\n",
              "  (fc_layer1): Sequential(\n",
              "    (0): Linear(in_features=2048, out_features=512, bias=True)\n",
              "    (1): ReLU()\n",
              "  )\n",
              "  (fc_layer2): Linear(in_features=512, out_features=10, bias=True)\n",
              ")"
            ]
          },
          "metadata": {},
          "execution_count": 12
        }
      ]
    },
    {
      "cell_type": "code",
      "source": [
        "criterion = nn.CrossEntropyLoss()\n",
        "optimizer = Adam(model.parameters(), lr=lr)"
      ],
      "metadata": {
        "id": "GkO0d3lFbQEA"
      },
      "execution_count": 13,
      "outputs": []
    },
    {
      "cell_type": "code",
      "source": [
        "training_steps = len(train_dataloader)\n",
        "val_steps = len(val_dataloader)\n",
        "\n",
        "training_losses = []\n",
        "val_losses = []\n",
        "\n",
        "val_accs = []\n",
        "\n",
        "print('Start Training...\\n')\n",
        "for epoch in range(n_epochs):\n",
        "    total_training_loss = 0\n",
        "    model.train()\n",
        "    for idx, (X_train, y_train) in enumerate(train_dataloader):\n",
        "        X_train = X_train.to(device)\n",
        "        y_train = y_train.to(device)\n",
        "\n",
        "        y_pred = model(X_train)\n",
        "        loss = criterion(y_pred, y_train)\n",
        "        total_training_loss += loss.item()\n",
        "\n",
        "        optimizer.zero_grad()\n",
        "        loss.backward()\n",
        "        optimizer.step()\n",
        "\n",
        "    training_loss = total_training_loss / training_steps\n",
        "    training_losses.append(training_loss)\n",
        "\n",
        "    print(f'Epoch [{epoch+1}/{n_epochs}], Training Loss: {training_loss:.3f}')\n",
        "\n",
        "    with torch.no_grad():\n",
        "        model.eval()\n",
        "        n_correct_preds = 0\n",
        "        n_val_samples = 0\n",
        "        total_val_loss = 0\n",
        "        for idx, (X_val, y_val) in enumerate(val_dataloader):\n",
        "            X_val = X_val.to(device)\n",
        "            y_val = y_val.to(device)\n",
        "\n",
        "            y_pred = model(X_val)\n",
        "            loss = criterion(y_pred, y_val)\n",
        "            total_val_loss += loss.item()\n",
        "\n",
        "            y_pred_max, y_pred_max_idx = torch.max(y_pred, 1)\n",
        "            n_val_samples += y_pred.size(0)\n",
        "            n_correct_preds += (y_val == y_pred_max_idx).sum().item()\n",
        "\n",
        "        val_acc = n_correct_preds / n_val_samples\n",
        "        val_loss = total_val_loss / val_steps\n",
        "        val_losses.append(val_loss)\n",
        "        val_accs.append(val_acc)\n",
        "\n",
        "        print(f'Val Loss: {val_loss:.3f}, Val Accuracy: {val_acc:.3f}\\n')\n",
        "\n",
        "print('Training Completed')"
      ],
      "metadata": {
        "colab": {
          "base_uri": "https://localhost:8080/"
        },
        "id": "OzoMVjhxbRQ0",
        "outputId": "2c036381-2a07-406b-c8de-6d46e83a639c"
      },
      "execution_count": 14,
      "outputs": [
        {
          "output_type": "stream",
          "name": "stdout",
          "text": [
            "Start Training...\n",
            "\n",
            "Epoch [1/50], Training Loss: 2.060\n",
            "Val Loss: 1.774, Val Accuracy: 0.332\n",
            "\n",
            "Epoch [2/50], Training Loss: 1.691\n",
            "Val Loss: 1.609, Val Accuracy: 0.389\n",
            "\n",
            "Epoch [3/50], Training Loss: 1.552\n",
            "Val Loss: 1.591, Val Accuracy: 0.410\n",
            "\n",
            "Epoch [4/50], Training Loss: 1.429\n",
            "Val Loss: 1.402, Val Accuracy: 0.481\n",
            "\n",
            "Epoch [5/50], Training Loss: 1.342\n",
            "Val Loss: 1.303, Val Accuracy: 0.516\n",
            "\n",
            "Epoch [6/50], Training Loss: 1.262\n",
            "Val Loss: 1.228, Val Accuracy: 0.550\n",
            "\n",
            "Epoch [7/50], Training Loss: 1.187\n",
            "Val Loss: 1.187, Val Accuracy: 0.573\n",
            "\n",
            "Epoch [8/50], Training Loss: 1.122\n",
            "Val Loss: 1.174, Val Accuracy: 0.578\n",
            "\n",
            "Epoch [9/50], Training Loss: 1.063\n",
            "Val Loss: 1.069, Val Accuracy: 0.613\n",
            "\n",
            "Epoch [10/50], Training Loss: 1.016\n",
            "Val Loss: 1.032, Val Accuracy: 0.629\n",
            "\n",
            "Epoch [11/50], Training Loss: 0.969\n",
            "Val Loss: 1.002, Val Accuracy: 0.643\n",
            "\n",
            "Epoch [12/50], Training Loss: 0.941\n",
            "Val Loss: 0.988, Val Accuracy: 0.649\n",
            "\n",
            "Epoch [13/50], Training Loss: 0.888\n",
            "Val Loss: 0.977, Val Accuracy: 0.651\n",
            "\n",
            "Epoch [14/50], Training Loss: 0.852\n",
            "Val Loss: 1.042, Val Accuracy: 0.644\n",
            "\n",
            "Epoch [15/50], Training Loss: 0.826\n",
            "Val Loss: 0.896, Val Accuracy: 0.683\n",
            "\n",
            "Epoch [16/50], Training Loss: 0.788\n",
            "Val Loss: 0.921, Val Accuracy: 0.681\n",
            "\n",
            "Epoch [17/50], Training Loss: 0.750\n",
            "Val Loss: 0.888, Val Accuracy: 0.688\n",
            "\n",
            "Epoch [18/50], Training Loss: 0.722\n",
            "Val Loss: 0.831, Val Accuracy: 0.707\n",
            "\n",
            "Epoch [19/50], Training Loss: 0.690\n",
            "Val Loss: 0.821, Val Accuracy: 0.711\n",
            "\n",
            "Epoch [20/50], Training Loss: 0.670\n",
            "Val Loss: 0.785, Val Accuracy: 0.725\n",
            "\n",
            "Epoch [21/50], Training Loss: 0.634\n",
            "Val Loss: 0.812, Val Accuracy: 0.722\n",
            "\n",
            "Epoch [22/50], Training Loss: 0.609\n",
            "Val Loss: 0.802, Val Accuracy: 0.722\n",
            "\n",
            "Epoch [23/50], Training Loss: 0.587\n",
            "Val Loss: 0.814, Val Accuracy: 0.719\n",
            "\n",
            "Epoch [24/50], Training Loss: 0.555\n",
            "Val Loss: 0.798, Val Accuracy: 0.729\n",
            "\n",
            "Epoch [25/50], Training Loss: 0.530\n",
            "Val Loss: 0.812, Val Accuracy: 0.732\n",
            "\n",
            "Epoch [26/50], Training Loss: 0.501\n",
            "Val Loss: 0.778, Val Accuracy: 0.739\n",
            "\n",
            "Epoch [27/50], Training Loss: 0.479\n",
            "Val Loss: 0.765, Val Accuracy: 0.747\n",
            "\n",
            "Epoch [28/50], Training Loss: 0.456\n",
            "Val Loss: 0.735, Val Accuracy: 0.757\n",
            "\n",
            "Epoch [29/50], Training Loss: 0.428\n",
            "Val Loss: 0.755, Val Accuracy: 0.748\n",
            "\n",
            "Epoch [30/50], Training Loss: 0.401\n",
            "Val Loss: 0.756, Val Accuracy: 0.754\n",
            "\n",
            "Epoch [31/50], Training Loss: 0.373\n",
            "Val Loss: 0.759, Val Accuracy: 0.755\n",
            "\n",
            "Epoch [32/50], Training Loss: 0.354\n",
            "Val Loss: 0.787, Val Accuracy: 0.755\n",
            "\n",
            "Epoch [33/50], Training Loss: 0.331\n",
            "Val Loss: 0.794, Val Accuracy: 0.755\n",
            "\n",
            "Epoch [34/50], Training Loss: 0.303\n",
            "Val Loss: 0.805, Val Accuracy: 0.758\n",
            "\n",
            "Epoch [35/50], Training Loss: 0.283\n",
            "Val Loss: 0.896, Val Accuracy: 0.749\n",
            "\n",
            "Epoch [36/50], Training Loss: 0.251\n",
            "Val Loss: 0.857, Val Accuracy: 0.758\n",
            "\n",
            "Epoch [37/50], Training Loss: 0.227\n",
            "Val Loss: 0.884, Val Accuracy: 0.754\n",
            "\n",
            "Epoch [38/50], Training Loss: 0.210\n",
            "Val Loss: 1.123, Val Accuracy: 0.731\n",
            "\n",
            "Epoch [39/50], Training Loss: 0.197\n",
            "Val Loss: 1.098, Val Accuracy: 0.741\n",
            "\n",
            "Epoch [40/50], Training Loss: 0.165\n",
            "Val Loss: 1.068, Val Accuracy: 0.755\n",
            "\n",
            "Epoch [41/50], Training Loss: 0.144\n",
            "Val Loss: 1.128, Val Accuracy: 0.752\n",
            "\n",
            "Epoch [42/50], Training Loss: 0.138\n",
            "Val Loss: 1.079, Val Accuracy: 0.760\n",
            "\n",
            "Epoch [43/50], Training Loss: 0.118\n",
            "Val Loss: 1.205, Val Accuracy: 0.761\n",
            "\n",
            "Epoch [44/50], Training Loss: 0.105\n",
            "Val Loss: 1.241, Val Accuracy: 0.754\n",
            "\n",
            "Epoch [45/50], Training Loss: 0.090\n",
            "Val Loss: 1.307, Val Accuracy: 0.748\n",
            "\n",
            "Epoch [46/50], Training Loss: 0.087\n",
            "Val Loss: 1.407, Val Accuracy: 0.755\n",
            "\n",
            "Epoch [47/50], Training Loss: 0.079\n",
            "Val Loss: 1.295, Val Accuracy: 0.746\n",
            "\n",
            "Epoch [48/50], Training Loss: 0.073\n",
            "Val Loss: 1.436, Val Accuracy: 0.747\n",
            "\n",
            "Epoch [49/50], Training Loss: 0.056\n",
            "Val Loss: 1.480, Val Accuracy: 0.750\n",
            "\n",
            "Epoch [50/50], Training Loss: 0.068\n",
            "Val Loss: 1.379, Val Accuracy: 0.757\n",
            "\n",
            "Training Completed\n"
          ]
        }
      ]
    },
    {
      "cell_type": "code",
      "source": [
        "plt.figure(figsize=(18, 9))\n",
        "plt.plot(range(n_epochs), training_losses, c='r', label='Training losses')\n",
        "plt.plot(range(n_epochs), val_losses, c='g', label='Val losses')\n",
        "plt.legend(loc='upper right')\n",
        "plt.grid()\n",
        "plt.show()"
      ],
      "metadata": {
        "colab": {
          "base_uri": "https://localhost:8080/",
          "height": 537
        },
        "id": "Ke33FSnOiC3l",
        "outputId": "cfbf11c8-eed6-4ceb-e5b0-1e24ae10fd45"
      },
      "execution_count": 16,
      "outputs": [
        {
          "output_type": "display_data",
          "data": {
            "text/plain": [
              "<Figure size 1296x648 with 1 Axes>"
            ],
            "image/png": "[encoded data removed]"
          },
          "metadata": {
            "needs_background": "light"
          }
        }
      ]
    },
    {
      "cell_type": "code",
      "source": [
        "plt.figure(figsize=(18, 9))\n",
        "plt.plot(range(n_epochs), val_accs, label='Val Accuracy')\n",
        "plt.legend(loc='upper left')\n",
        "plt.grid()\n",
        "plt.show()"
      ],
      "metadata": {
        "colab": {
          "base_uri": "https://localhost:8080/",
          "height": 537
        },
        "id": "TabtLgF5idZN",
        "outputId": "fbae4a6a-1487-4698-922a-2507196b9c0d"
      },
      "execution_count": 18,
      "outputs": [
        {
          "output_type": "display_data",
          "data": {
            "text/plain": [
              "<Figure size 1296x648 with 1 Axes>"
            ],
            "image/png": "[encoded data removed]"
          },
          "metadata": {
            "needs_background": "light"
          }
        }
      ]
    }
  ]
}